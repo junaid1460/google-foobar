{
 "cells": [
  {
   "cell_type": "code",
   "execution_count": 7,
   "metadata": {},
   "outputs": [
    {
     "name": "stdout",
     "output_type": "stream",
     "text": [
      "210.0\n",
      "0.414\n",
      "0.828\n",
      "1.242\n",
      "1.656\n",
      "2.07\n",
      "2.484\n",
      "2.8979999999999997\n",
      "3.312\n",
      "3.726\n",
      "4.14\n",
      "4.553999999999999\n",
      "4.968\n",
      "5.382\n",
      "5.795999999999999\n",
      "6.21\n",
      "6.624\n",
      "7.037999999999999\n",
      "7.452\n",
      "7.866\n",
      "8.28\n",
      "\n",
      "1.414\n",
      "2.828\n",
      "4.242\n",
      "5.656\n",
      "7.069999999999999\n",
      "8.484\n",
      "9.898\n",
      "11.312\n",
      "12.725999999999999\n",
      "14.139999999999999\n",
      "15.553999999999998\n",
      "16.968\n",
      "18.381999999999998\n",
      "19.796\n",
      "21.209999999999997\n",
      "22.624\n",
      "24.038\n",
      "25.451999999999998\n",
      "26.866\n",
      "28.279999999999998\n"
     ]
    }
   ],
   "source": [
    "# [1* 1.414] + [2*1.414] + ...\n",
    "# 1 + [1*0.414] + 2 + [2*0.414] + ...\n",
    "# 1 ... 5\n",
    "n = 20\n",
    "\n",
    "init = n * (n + 1) / 2\n",
    "\n",
    "print(init)\n",
    "for i in range(n):\n",
    "    print((i + 1) * 0.414)\n",
    "print()\n",
    "for i in range(n):\n",
    "    print((i + 1) * 1.414)"
   ]
  }
 ],
 "metadata": {
  "kernelspec": {
   "display_name": "Python 3",
   "language": "python",
   "name": "python3"
  },
  "language_info": {
   "codemirror_mode": {
    "name": "ipython",
    "version": 3
   },
   "file_extension": ".py",
   "mimetype": "text/x-python",
   "name": "python",
   "nbconvert_exporter": "python",
   "pygments_lexer": "ipython3",
   "version": "3.5.2"
  }
 },
 "nbformat": 4,
 "nbformat_minor": 2
}
