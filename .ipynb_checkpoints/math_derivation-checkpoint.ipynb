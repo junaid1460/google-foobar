{
 "cells": [
  {
   "cell_type": "code",
   "execution_count": 5,
   "metadata": {},
   "outputs": [
    {
     "name": "stdout",
     "output_type": "stream",
     "text": [
      "15.0\n",
      "0.414\n",
      "0.828\n",
      "1.242\n",
      "1.656\n",
      "2.07\n"
     ]
    }
   ],
   "source": [
    "# [1* 1.414] + [2*1.414] + ...\n",
    "# 1 + [1*0.414] + 2 + [2*0.414] + ...\n",
    "# 1 ... 5\n",
    "n = 5\n",
    "\n",
    "init = n * (n + 1) / 2\n",
    "\n",
    "print(init)\n",
    "for i in range(n):\n",
    "    print((i + 1) * 0.414)\n",
    "print()\n",
    "for i in range(n):\n",
    "    print((i + 1) * 1.414)"
   ]
  }
 ],
 "metadata": {
  "kernelspec": {
   "display_name": "Python 3",
   "language": "python",
   "name": "python3"
  },
  "language_info": {
   "codemirror_mode": {
    "name": "ipython",
    "version": 3
   },
   "file_extension": ".py",
   "mimetype": "text/x-python",
   "name": "python",
   "nbconvert_exporter": "python",
   "pygments_lexer": "ipython3",
   "version": "3.5.2"
  }
 },
 "nbformat": 4,
 "nbformat_minor": 2
}
